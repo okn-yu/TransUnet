{
 "cells": [
  {
   "cell_type": "code",
   "execution_count": 1,
   "metadata": {},
   "outputs": [],
   "source": [
    "import logging\n",
    "import os\n",
    "import random\n",
    "import numpy as np\n",
    "import torch\n",
    "import torch.backends.cudnn as cudnn\n",
    "from networks.vit_seg_modeling import VisionTransformer as ViT_seg\n",
    "from networks.vit_seg_modeling import CONFIGS as CONFIGS_ViT_seg\n",
    "\n",
    "seed = 1234\n",
    "num_classes = 1\n",
    "vit_name = 'R50-ViT-B_16'\n",
    "n_skip = 3\n",
    "img_size = 224\n",
    "vit_patches_size = 16\n",
    "\n",
    "def make_transunet():\n",
    "\n",
    "    random.seed(seed)\n",
    "    np.random.seed(seed)\n",
    "    torch.manual_seed(seed)\n",
    "    torch.cuda.manual_seed(seed)\n",
    "\n",
    "    config_vit = CONFIGS_ViT_seg[vit_name]\n",
    "    config_vit.n_classes = num_classes\n",
    "    config_vit.n_skip = n_skip\n",
    "    if vit_name.find('R50') != -1:\n",
    "        config_vit.patches.grid = (int(img_size / vit_patches_size), int(img_size / vit_patches_size))\n",
    "    net = ViT_seg(config_vit, img_size=img_size, num_classes=config_vit.n_classes).cuda()\n",
    "    net.load_from(weights=np.load(config_vit.pretrained_path))\n",
    "    \n",
    "    return net"
   ]
  },
  {
   "cell_type": "code",
   "execution_count": 2,
   "metadata": {},
   "outputs": [
    {
     "name": "stdout",
     "output_type": "stream",
     "text": [
      "torch.Size([1, 1, 224, 224])\n"
     ]
    }
   ],
   "source": [
    "net = make_transunet()\n",
    "\n",
    "test_img = torch.ones(1, 1, 224, 224).to('cuda')\n",
    "print(net(test_img).shape)"
   ]
  },
  {
   "cell_type": "code",
   "execution_count": null,
   "metadata": {},
   "outputs": [],
   "source": []
  }
 ],
 "metadata": {
  "kernelspec": {
   "display_name": "Python 3",
   "language": "python",
   "name": "python3"
  },
  "language_info": {
   "codemirror_mode": {
    "name": "ipython",
    "version": 3
   },
   "file_extension": ".py",
   "mimetype": "text/x-python",
   "name": "python",
   "nbconvert_exporter": "python",
   "pygments_lexer": "ipython3",
   "version": "3.6.9"
  }
 },
 "nbformat": 4,
 "nbformat_minor": 2
}
